{
 "cells": [
  {
   "cell_type": "code",
   "execution_count": 10,
   "metadata": {},
   "outputs": [],
   "source": [
    "def distribute_idlis(idlis):\n",
    "    # Count the number of odd idlis each person has\n",
    "    odd_counts = [x % 2 for x in idlis]\n",
    "    \n",
    "    # Check if the sum of odd counts is odd\n",
    "    if sum(odd_counts) % 2 != 0:\n",
    "        return -1\n",
    "    \n",
    "    # Calculate the total number of idlis needed to make everyone's count even\n",
    "    total_idlis_needed = sum(odd_counts) // 2\n",
    "    \n",
    "    # Calculate the total idlis distributed\n",
    "    total_idlis_distributed = sum(max(0, total_idlis_needed - count) for count in odd_counts)\n",
    "    \n",
    "    return total_idlis_distributed\n",
    "\n"
   ]
  },
  {
   "cell_type": "code",
   "execution_count": 18,
   "metadata": {},
   "outputs": [
    {
     "name": "stdout",
     "output_type": "stream",
     "text": [
      "All test cases passed!\n"
     ]
    }
   ],
   "source": [
    "def test_distribute_idlis():\n",
    "    #Test case with an even number of idlis for each person\n",
    "    assert distribute_idlis([2, 4, 6, 8]) == 0\n",
    "    \n",
    "    #Test case with an odd number of idlis for each person, but distributable\n",
    "    #print(distribute_idlis([1,3,5,7]))\n",
    "    assert distribute_idlis([1, 3, 5, 7]) == 4\n",
    "    \n",
    "    #Test case with an odd number of idlis for each person, not distributable\n",
    "    assert distribute_idlis([1, 3, 5, 6]) == -1\n",
    "    \n",
    "    # Test case with an empty list of idlis\n",
    "    assert distribute_idlis([]) == 0\n",
    "    \n",
    "    # Test case with one person having an odd number of idlis\n",
    "    assert distribute_idlis([2, 4, 6, 7]) == -1\n",
    "    \n",
    "    # Test case with one person having all the odd idlis needed\n",
    "    assert distribute_idlis([1, 2, 3, 4]) == 2\n",
    "    \n",
    "    print(\"All test cases passed!\")\n",
    "\n",
    "# Run the test cases\n",
    "test_distribute_idlis()\n"
   ]
  }
 ],
 "metadata": {
  "kernelspec": {
   "display_name": "Python 3",
   "language": "python",
   "name": "python3"
  },
  "language_info": {
   "codemirror_mode": {
    "name": "ipython",
    "version": 3
   },
   "file_extension": ".py",
   "mimetype": "text/x-python",
   "name": "python",
   "nbconvert_exporter": "python",
   "pygments_lexer": "ipython3",
   "version": "3.9.13"
  }
 },
 "nbformat": 4,
 "nbformat_minor": 2
}
