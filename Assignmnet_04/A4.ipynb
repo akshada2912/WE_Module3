{
 "cells": [
  {
   "cell_type": "code",
   "execution_count": 2,
   "metadata": {},
   "outputs": [
    {
     "name": "stdout",
     "output_type": "stream",
     "text": [
      "The quick brown fox jumps over the lazy dog. The lazy dog\n"
     ]
    }
   ],
   "source": [
    "import random\n",
    "\n",
    "# Sample corpus\n",
    "corpus = \"\"\"\n",
    "The quick brown fox jumps over the lazy dog.\n",
    "The lazy dog sleeps all day.\n",
    "All that glitters is not gold.\n",
    "A penny saved is a penny earned.\n",
    "\"\"\"\n",
    "\n",
    "# Save the corpus to a text file\n",
    "with open('corpus.txt', 'w', encoding='utf-8') as file:\n",
    "    file.write(corpus)\n",
    "\n",
    "def build_markov_chain(filename, chain_length):\n",
    "    markov_chain = {}\n",
    "    with open(filename, 'r', encoding='utf-8') as file:\n",
    "        words = file.read().split()\n",
    "        for i in range(len(words) - chain_length):\n",
    "            key = tuple(words[i:i + chain_length])\n",
    "            value = words[i + chain_length]\n",
    "            if key in markov_chain:\n",
    "                markov_chain[key].append(value)\n",
    "            else:\n",
    "                markov_chain[key] = [value]\n",
    "    return markov_chain\n",
    "\n",
    "def generate(filename, start_words, chain_length, num_generated):\n",
    "    markov_chain = build_markov_chain(filename, chain_length)\n",
    "    current_words = tuple(start_words)\n",
    "    generated_text = list(current_words)\n",
    "\n",
    "    for _ in range(num_generated):\n",
    "        if current_words in markov_chain:\n",
    "            next_word = random.choice(markov_chain[current_words])\n",
    "            generated_text.append(next_word)\n",
    "            current_words = tuple(generated_text[-chain_length:])\n",
    "        else:\n",
    "            break\n",
    "\n",
    "    return ' '.join(generated_text)\n",
    "\n",
    "# Example usage\n",
    "filename = 'corpus.txt'\n",
    "start_words = ['The', 'quick']\n",
    "chain_length = 2\n",
    "num_generated = 10\n",
    "generated_sentence = generate(filename, start_words, chain_length, num_generated)\n",
    "print(generated_sentence)\n"
   ]
  },
  {
   "cell_type": "code",
   "execution_count": 3,
   "metadata": {},
   "outputs": [
    {
     "name": "stdout",
     "output_type": "stream",
     "text": [
      "Test case 1:\n",
      "The quick brown fox jumps over the lazy dog. The lazy dog\n",
      "\n",
      "Test case 2:\n",
      "All that glitters is not gold. A penny saved is a penny earned.\n",
      "\n",
      "Test case 3:\n",
      "All\n",
      "\n",
      "Test case 4:\n",
      "Fox jumps\n",
      "\n",
      "Test case 5:\n",
      "The\n"
     ]
    }
   ],
   "source": [
    "# Test case 1\n",
    "print(\"Test case 1:\")\n",
    "filename = 'corpus.txt'\n",
    "start_words = ['The', 'quick']\n",
    "chain_length = 2\n",
    "num_generated = 10\n",
    "generated_sentence = generate(filename, start_words, chain_length, num_generated)\n",
    "print(generated_sentence)\n",
    "\n",
    "# Test case 2\n",
    "print(\"\\nTest case 2:\")\n",
    "filename = 'corpus.txt'\n",
    "start_words = ['All', 'that']\n",
    "chain_length = 2\n",
    "num_generated = 15\n",
    "generated_sentence = generate(filename, start_words, chain_length, num_generated)\n",
    "print(generated_sentence)\n",
    "\n",
    "# Test case 3\n",
    "print(\"\\nTest case 3:\")\n",
    "filename = 'corpus.txt'\n",
    "start_words = ['All']\n",
    "chain_length = 3\n",
    "num_generated = 20\n",
    "generated_sentence = generate(filename, start_words, chain_length, num_generated)\n",
    "print(generated_sentence)\n",
    "\n",
    "# Test case 4\n",
    "print(\"\\nTest case 4:\")\n",
    "filename = 'corpus.txt'\n",
    "start_words = ['Fox', 'jumps']\n",
    "chain_length = 2\n",
    "num_generated = 10\n",
    "generated_sentence = generate(filename, start_words, chain_length, num_generated)\n",
    "print(generated_sentence)\n",
    "\n",
    "# Test case 5\n",
    "print(\"\\nTest case 5:\")\n",
    "filename = 'corpus.txt'\n",
    "start_words = ['The']\n",
    "chain_length = 10\n",
    "num_generated = 20\n",
    "generated_sentence = generate(filename, start_words, chain_length, num_generated)\n",
    "print(generated_sentence)\n"
   ]
  }
 ],
 "metadata": {
  "kernelspec": {
   "display_name": "Python 3",
   "language": "python",
   "name": "python3"
  },
  "language_info": {
   "codemirror_mode": {
    "name": "ipython",
    "version": 3
   },
   "file_extension": ".py",
   "mimetype": "text/x-python",
   "name": "python",
   "nbconvert_exporter": "python",
   "pygments_lexer": "ipython3",
   "version": "3.9.13"
  }
 },
 "nbformat": 4,
 "nbformat_minor": 2
}
